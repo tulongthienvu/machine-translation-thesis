{
 "cells": [
  {
   "cell_type": "code",
   "execution_count": 1,
   "metadata": {
    "ExecuteTime": {
     "end_time": "2018-03-27T04:14:15.475227Z",
     "start_time": "2018-03-27T04:14:15.235693Z"
    },
    "collapsed": true
   },
   "outputs": [],
   "source": [
    "import torch\n",
    "import torch.nn as nn\n",
    "from torch.autograd import Variable"
   ]
  },
  {
   "cell_type": "code",
   "execution_count": 2,
   "metadata": {
    "ExecuteTime": {
     "end_time": "2018-03-27T04:14:15.483281Z",
     "start_time": "2018-03-27T04:14:15.477205Z"
    },
    "collapsed": true
   },
   "outputs": [],
   "source": [
    "batch_size = 3\n",
    "max_length = 3\n",
    "hidden_size = 2\n",
    "n_layers = 1\n",
    "num_input_features = 1"
   ]
  },
  {
   "cell_type": "code",
   "execution_count": 3,
   "metadata": {
    "ExecuteTime": {
     "end_time": "2018-03-27T04:14:15.491582Z",
     "start_time": "2018-03-27T04:14:15.485775Z"
    },
    "collapsed": true
   },
   "outputs": [],
   "source": [
    "input_tensor = torch.zeros(batch_size, max_length, num_input_features)"
   ]
  },
  {
   "cell_type": "code",
   "execution_count": 4,
   "metadata": {
    "ExecuteTime": {
     "end_time": "2018-03-27T04:14:15.500956Z",
     "start_time": "2018-03-27T04:14:15.494744Z"
    },
    "collapsed": true
   },
   "outputs": [],
   "source": [
    "input_tensor[0] = torch.FloatTensor([1,2,3])\n",
    "input_tensor[1] = torch.FloatTensor([4, 5, 0])\n",
    "input_tensor[2] = torch.FloatTensor([6, 0, 0])"
   ]
  },
  {
   "cell_type": "code",
   "execution_count": 5,
   "metadata": {
    "ExecuteTime": {
     "end_time": "2018-03-27T04:15:10.759702Z",
     "start_time": "2018-03-27T04:15:10.752961Z"
    },
    "collapsed": true
   },
   "outputs": [],
   "source": [
    "batch_in = Variable(input_tensor)"
   ]
  },
  {
   "cell_type": "code",
   "execution_count": 8,
   "metadata": {
    "ExecuteTime": {
     "end_time": "2018-03-27T04:15:40.643195Z",
     "start_time": "2018-03-27T04:15:40.638107Z"
    },
    "collapsed": true
   },
   "outputs": [],
   "source": [
    "seq_lengths = [3, 2, 1]"
   ]
  },
  {
   "cell_type": "code",
   "execution_count": null,
   "metadata": {
    "collapsed": true
   },
   "outputs": [],
   "source": [
    "pack = torch.nn.utils.rnn.pack_padded_sequence()"
   ]
  }
 ],
 "metadata": {
  "kernelspec": {
   "display_name": "Python 2",
   "language": "python",
   "name": "python2"
  },
  "language_info": {
   "codemirror_mode": {
    "name": "ipython",
    "version": 2
   },
   "file_extension": ".py",
   "mimetype": "text/x-python",
   "name": "python",
   "nbconvert_exporter": "python",
   "pygments_lexer": "ipython2",
   "version": "2.7.14"
  },
  "toc": {
   "nav_menu": {},
   "number_sections": true,
   "sideBar": true,
   "skip_h1_title": false,
   "toc_cell": false,
   "toc_position": {},
   "toc_section_display": "block",
   "toc_window_display": false
  }
 },
 "nbformat": 4,
 "nbformat_minor": 2
}
