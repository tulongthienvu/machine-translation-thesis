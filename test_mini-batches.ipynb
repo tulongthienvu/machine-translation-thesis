{
 "cells": [
  {
   "cell_type": "code",
   "execution_count": 1,
   "metadata": {
    "ExecuteTime": {
     "end_time": "2018-03-28T03:00:13.121090Z",
     "start_time": "2018-03-28T03:00:12.853734Z"
    }
   },
   "outputs": [],
   "source": [
    "import torch\n",
    "import torch.nn as nn\n",
    "from torch.autograd import Variable"
   ]
  },
  {
   "cell_type": "code",
   "execution_count": 2,
   "metadata": {
    "ExecuteTime": {
     "end_time": "2018-03-28T03:00:13.130308Z",
     "start_time": "2018-03-28T03:00:13.125812Z"
    }
   },
   "outputs": [],
   "source": [
    "batch_size = 3\n",
    "input_features = 1\n",
    "hidden_size = 2\n",
    "max_length = 3\n",
    "num_layers = 1"
   ]
  },
  {
   "cell_type": "code",
   "execution_count": 3,
   "metadata": {
    "ExecuteTime": {
     "end_time": "2018-03-28T03:00:13.144720Z",
     "start_time": "2018-03-28T03:00:13.134895Z"
    }
   },
   "outputs": [],
   "source": [
    "sentences = []\n",
    "sentences.append([[3, 2, 1, 1]])\n",
    "sentences.append([[1, 2, 1]])\n",
    "sentences.append([[3]])"
   ]
  },
  {
   "cell_type": "code",
   "execution_count": 4,
   "metadata": {
    "ExecuteTime": {
     "end_time": "2018-03-28T03:00:13.156016Z",
     "start_time": "2018-03-28T03:00:13.149324Z"
    }
   },
   "outputs": [],
   "source": [
    "sentences = [Variable(torch.FloatTensor(sentences[i]).view(-1, 1)) for i in range(len(sentences))]"
   ]
  },
  {
   "cell_type": "code",
   "execution_count": 5,
   "metadata": {
    "ExecuteTime": {
     "end_time": "2018-03-28T03:00:13.180507Z",
     "start_time": "2018-03-28T03:00:13.158896Z"
    }
   },
   "outputs": [
    {
     "data": {
      "text/plain": [
       "[\n",
       "  3\n",
       "  2\n",
       "  1\n",
       "  1\n",
       " [torch.FloatTensor of size (4,1)], \n",
       "  1\n",
       "  2\n",
       "  1\n",
       " [torch.FloatTensor of size (3,1)], \n",
       "  3\n",
       " [torch.FloatTensor of size (1,1)]]"
      ]
     },
     "execution_count": 5,
     "metadata": {},
     "output_type": "execute_result"
    }
   ],
   "source": [
    "sentences"
   ]
  },
  {
   "cell_type": "code",
   "execution_count": 6,
   "metadata": {
    "ExecuteTime": {
     "end_time": "2018-03-28T03:00:13.190349Z",
     "start_time": "2018-03-28T03:00:13.184688Z"
    }
   },
   "outputs": [],
   "source": [
    "packed_sentences = torch.nn.utils.rnn.pack_sequence(sentences)"
   ]
  },
  {
   "cell_type": "code",
   "execution_count": 7,
   "metadata": {
    "ExecuteTime": {
     "end_time": "2018-03-28T03:00:13.202272Z",
     "start_time": "2018-03-28T03:00:13.193537Z"
    }
   },
   "outputs": [
    {
     "data": {
      "text/plain": [
       "PackedSequence(data=\n",
       "    3\n",
       "    1\n",
       "    3\n",
       "    2\n",
       "    2\n",
       "    1\n",
       "    1\n",
       "    1\n",
       "[torch.FloatTensor of size (8,1)]\n",
       ", batch_sizes=\n",
       " 3\n",
       " 2\n",
       " 2\n",
       " 1\n",
       "[torch.LongTensor of size (4,)]\n",
       ")"
      ]
     },
     "execution_count": 7,
     "metadata": {},
     "output_type": "execute_result"
    }
   ],
   "source": [
    "packed_sentences"
   ]
  },
  {
   "cell_type": "code",
   "execution_count": 8,
   "metadata": {
    "ExecuteTime": {
     "end_time": "2018-03-28T03:00:13.214280Z",
     "start_time": "2018-03-28T03:00:13.206793Z"
    }
   },
   "outputs": [],
   "source": [
    "rnn = nn.RNN(input_features, hidden_size, num_layers, batch_first=True)"
   ]
  },
  {
   "cell_type": "code",
   "execution_count": 9,
   "metadata": {
    "ExecuteTime": {
     "end_time": "2018-03-28T03:00:13.223313Z",
     "start_time": "2018-03-28T03:00:13.218555Z"
    }
   },
   "outputs": [],
   "source": [
    "hidden = Variable(torch.zeros(num_layers, batch_size, hidden_size))"
   ]
  },
  {
   "cell_type": "code",
   "execution_count": 10,
   "metadata": {
    "ExecuteTime": {
     "end_time": "2018-03-28T03:00:13.240031Z",
     "start_time": "2018-03-28T03:00:13.227643Z"
    }
   },
   "outputs": [],
   "source": [
    "out, hidden = rnn(packed_sentences, hidden)"
   ]
  },
  {
   "cell_type": "code",
   "execution_count": 15,
   "metadata": {
    "ExecuteTime": {
     "end_time": "2018-03-28T03:08:13.972709Z",
     "start_time": "2018-03-28T03:08:13.961962Z"
    }
   },
   "outputs": [
    {
     "data": {
      "text/plain": [
       "\n",
       "-0.0243 -0.7733\n",
       "-0.5656 -0.4060\n",
       "-0.4369 -0.3187\n",
       "-0.4115 -0.3428\n",
       "[torch.FloatTensor of size (4,2)]"
      ]
     },
     "execution_count": 15,
     "metadata": {},
     "output_type": "execute_result"
    }
   ],
   "source": [
    "torch.nn.utils.rnn.pad_packed_sequence(out, batch_first=True)[0][0]"
   ]
  },
  {
   "cell_type": "code",
   "execution_count": null,
   "metadata": {},
   "outputs": [],
   "source": []
  }
 ],
 "metadata": {
  "kernelspec": {
   "display_name": "Python 2",
   "language": "python",
   "name": "python2"
  },
  "language_info": {
   "codemirror_mode": {
    "name": "ipython",
    "version": 2
   },
   "file_extension": ".py",
   "mimetype": "text/x-python",
   "name": "python",
   "nbconvert_exporter": "python",
   "pygments_lexer": "ipython2",
   "version": "2.7.14"
  },
  "notify_time": "5",
  "toc": {
   "nav_menu": {},
   "number_sections": true,
   "sideBar": true,
   "skip_h1_title": false,
   "title_cell": "Table of Contents",
   "title_sidebar": "Contents",
   "toc_cell": false,
   "toc_position": {},
   "toc_section_display": "block",
   "toc_window_display": false
  }
 },
 "nbformat": 4,
 "nbformat_minor": 2
}
