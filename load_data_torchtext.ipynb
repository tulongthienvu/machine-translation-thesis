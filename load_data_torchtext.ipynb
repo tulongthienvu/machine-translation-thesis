{
 "cells": [
  {
   "cell_type": "code",
   "execution_count": null,
   "metadata": {
    "ExecuteTime": {
     "end_time": "2018-04-02T07:48:28.372546Z",
     "start_time": "2018-04-02T07:48:28.365632Z"
    }
   },
   "outputs": [],
   "source": [
    "use_cuda = True\n",
    "batch_size = 2\n",
    "learning_rate = 0.01"
   ]
  },
  {
   "cell_type": "markdown",
   "metadata": {},
   "source": [
    "# Import library"
   ]
  },
  {
   "cell_type": "code",
   "execution_count": null,
   "metadata": {
    "ExecuteTime": {
     "end_time": "2018-04-02T07:48:28.998884Z",
     "start_time": "2018-04-02T07:48:28.381038Z"
    }
   },
   "outputs": [],
   "source": [
    "from __future__ import print_function\n",
    "\n",
    "import torch\n",
    "import torch.nn as nn\n",
    "from torch.autograd import Variable\n",
    "import torch.nn.functional as F\n",
    "from torch.utils.data import Dataset\n",
    "from torch.utils.data import DataLoader\n",
    "import torchtext\n",
    "import torch.nn.utils.rnn as rnn_utils\n",
    "\n",
    "import numpy as np\n",
    "\n",
    "import time\n",
    "import math\n",
    "import random\n",
    "import unicodedata\n",
    "import string\n",
    "import re\n",
    "from tqdm import tqdm\n",
    "\n",
    "import scripts.text\n",
    "import utils"
   ]
  },
  {
   "cell_type": "markdown",
   "metadata": {},
   "source": [
    "# Load data"
   ]
  },
  {
   "cell_type": "code",
   "execution_count": null,
   "metadata": {
    "ExecuteTime": {
     "end_time": "2018-04-02T07:48:29.007531Z",
     "start_time": "2018-04-02T07:48:29.003042Z"
    }
   },
   "outputs": [],
   "source": [
    "data_path = './processed-data/id.1000/'\n",
    "en_vocab_path = data_path + 'train.10k.en.vocab'\n",
    "de_vocab_path = data_path + 'train.10k.de.vocab'"
   ]
  },
  {
   "cell_type": "code",
   "execution_count": null,
   "metadata": {
    "ExecuteTime": {
     "end_time": "2018-04-02T07:48:29.029314Z",
     "start_time": "2018-04-02T07:48:29.011738Z"
    }
   },
   "outputs": [],
   "source": [
    "en_words, en_vocab, _ = scripts.text.load_vocab(en_vocab_path)\n",
    "de_words, de_vocab, _ = scripts.text.load_vocab(de_vocab_path)"
   ]
  },
  {
   "cell_type": "code",
   "execution_count": null,
   "metadata": {
    "ExecuteTime": {
     "end_time": "2018-04-02T07:48:29.051740Z",
     "start_time": "2018-04-02T07:48:29.033772Z"
    }
   },
   "outputs": [],
   "source": [
    "class LuongNMTDataset(torchtext.data.Dataset):\n",
    "    \"\"\"\n",
    "        Custom Dataset for Machine Translation dataset based on torchtext's Dataset class.\n",
    "    \"\"\"\n",
    "    \n",
    "    def __init__(self, src_path, trg_path, fields, MAX_LENGTH=None, **kwargs):\n",
    "        \"\"\"\n",
    "            Arguments:\n",
    "                src_path (string): path to source language data.\n",
    "                trg_path (string): path to target language data.\n",
    "                fields: A tuple containing the fields that will be used for data in each language.\n",
    "                Remaining keyword arguments: Passed to the constructor of data.Dataset.\n",
    "        \"\"\"\n",
    "        \n",
    "        if not isinstance(fields[0], (tuple, list)):\n",
    "            fields = [('src', fields[0]), ('trg', fields[1])]\n",
    "        \n",
    "        examples = []\n",
    "        with open(src_path) as src_file, open(trg_path) as trg_file:\n",
    "            for src_line, trg_line in tqdm(zip(src_file, trg_file)):\n",
    "                # src_line = map(int, src_line.strip().split(' '))\n",
    "                # trg_line = map(int, trg_line.strip().split(' '))\n",
    "                src_line = src_line.strip().split(' ')\n",
    "                trg_line = trg_line.strip().split(' ')\n",
    "                if MAX_LENGTH is not None:\n",
    "                    if len(src_line) > MAX_LENGTH or len(trg_line) > MAX_LENGTH:\n",
    "                        continue\n",
    "                if src_line != '' and trg_line != '':\n",
    "#                     print(src_line)\n",
    "                    examples.append(torchtext.data.Example.fromlist([src_line, trg_line], fields))\n",
    "        \n",
    "        super(LuongNMTDataset, self).__init__(examples, fields, **kwargs)"
   ]
  },
  {
   "cell_type": "code",
   "execution_count": null,
   "metadata": {
    "ExecuteTime": {
     "end_time": "2018-04-02T07:48:29.063614Z",
     "start_time": "2018-04-02T07:48:29.056787Z"
    }
   },
   "outputs": [],
   "source": [
    "def post_processing(arr, field_vocab, train):\n",
    "    for index in range(0, len(arr)):\n",
    "        arr[index] = map(int, arr[index])\n",
    "    return arr"
   ]
  },
  {
   "cell_type": "code",
   "execution_count": null,
   "metadata": {
    "ExecuteTime": {
     "end_time": "2018-04-02T07:48:29.075185Z",
     "start_time": "2018-04-02T07:48:29.068033Z"
    }
   },
   "outputs": [],
   "source": [
    "src_field = torchtext.data.Field(sequential=True,\n",
    "#                                  tokenize=(lambda line: int(line)),\n",
    "                                 postprocessing=post_processing,\n",
    "                                 use_vocab=False,\n",
    "                                 pad_token='0',\n",
    "                                 include_lengths=True,\n",
    "                                 batch_first=True,\n",
    "                                 )\n",
    "trg_field = torchtext.data.Field(sequential=True,\n",
    "#                                  tokenize=(lambda line: int(line)),\n",
    "                                 postprocessing=post_processing,\n",
    "                                 use_vocab=False,\n",
    "                                 include_lengths=True,\n",
    "                                 pad_token='0',\n",
    "                                 batch_first=True\n",
    "                                 )"
   ]
  },
  {
   "cell_type": "code",
   "execution_count": null,
   "metadata": {
    "ExecuteTime": {
     "end_time": "2018-04-02T07:48:29.191645Z",
     "start_time": "2018-04-02T07:48:29.079207Z"
    }
   },
   "outputs": [],
   "source": [
    "train_dataset = LuongNMTDataset(src_path=data_path + 'train.10k.en', \n",
    "                            trg_path=data_path + 'train.10k.de', \n",
    "                            fields=(src_field, trg_field)\n",
    "                           )"
   ]
  },
  {
   "cell_type": "code",
   "execution_count": null,
   "metadata": {
    "ExecuteTime": {
     "end_time": "2018-04-02T07:48:29.201940Z",
     "start_time": "2018-04-02T07:48:29.196046Z"
    }
   },
   "outputs": [],
   "source": [
    "train_loader = torchtext.data.BucketIterator(dataset=train_dataset, \n",
    "                                             batch_size=2, \n",
    "                                             repeat=False, \n",
    "                                             shuffle=True,\n",
    "                                             sort_within_batch=True, \n",
    "                                             sort_key=lambda x: len(x.src)\n",
    "                                            )"
   ]
  },
  {
   "cell_type": "code",
   "execution_count": null,
   "metadata": {
    "ExecuteTime": {
     "end_time": "2018-04-02T07:48:29.220221Z",
     "start_time": "2018-04-02T07:48:29.206141Z"
    }
   },
   "outputs": [],
   "source": [
    "len(train_loader)"
   ]
  },
  {
   "cell_type": "code",
   "execution_count": null,
   "metadata": {
    "ExecuteTime": {
     "end_time": "2018-04-02T07:48:29.229970Z",
     "start_time": "2018-04-02T07:48:29.224799Z"
    }
   },
   "outputs": [],
   "source": [
    "batch_sample = None"
   ]
  },
  {
   "cell_type": "code",
   "execution_count": null,
   "metadata": {
    "ExecuteTime": {
     "end_time": "2018-04-02T07:48:31.757526Z",
     "start_time": "2018-04-02T07:48:29.234903Z"
    }
   },
   "outputs": [],
   "source": [
    "for batch in train_loader:\n",
    "    print(batch)\n",
    "    batch_sample = batch\n",
    "    break\n",
    "    pass"
   ]
  },
  {
   "cell_type": "code",
   "execution_count": null,
   "metadata": {
    "ExecuteTime": {
     "end_time": "2018-04-02T07:48:31.796389Z",
     "start_time": "2018-04-02T07:48:31.788843Z"
    }
   },
   "outputs": [],
   "source": [
    "len(train_dataset)"
   ]
  },
  {
   "cell_type": "code",
   "execution_count": null,
   "metadata": {
    "ExecuteTime": {
     "end_time": "2018-04-02T07:52:21.238484Z",
     "start_time": "2018-04-02T07:52:21.163550Z"
    }
   },
   "outputs": [],
   "source": [
    "sentences, lengths = batch_sample.src"
   ]
  },
  {
   "cell_type": "code",
   "execution_count": null,
   "metadata": {
    "ExecuteTime": {
     "end_time": "2018-04-02T07:52:22.819564Z",
     "start_time": "2018-04-02T07:52:22.749928Z"
    }
   },
   "outputs": [],
   "source": [
    "sentences"
   ]
  },
  {
   "cell_type": "code",
   "execution_count": null,
   "metadata": {
    "ExecuteTime": {
     "end_time": "2018-04-02T07:52:26.864136Z",
     "start_time": "2018-04-02T07:52:26.844380Z"
    }
   },
   "outputs": [],
   "source": [
    "lengths"
   ]
  },
  {
   "cell_type": "code",
   "execution_count": null,
   "metadata": {
    "ExecuteTime": {
     "end_time": "2018-04-02T07:48:31.852528Z",
     "start_time": "2018-04-02T07:48:31.848222Z"
    }
   },
   "outputs": [],
   "source": [
    "lengths = lengths.cpu()"
   ]
  },
  {
   "cell_type": "code",
   "execution_count": null,
   "metadata": {
    "ExecuteTime": {
     "end_time": "2018-04-02T07:48:31.881795Z",
     "start_time": "2018-04-02T07:48:31.855552Z"
    }
   },
   "outputs": [],
   "source": [
    "rnn_utils.pack_padded_sequence(sentences, lengths, batch_first=True)"
   ]
  }
 ],
 "metadata": {
  "kernelspec": {
   "display_name": "Python 2",
   "language": "python",
   "name": "python2"
  },
  "language_info": {
   "codemirror_mode": {
    "name": "ipython",
    "version": 2
   },
   "file_extension": ".py",
   "mimetype": "text/x-python",
   "name": "python",
   "nbconvert_exporter": "python",
   "pygments_lexer": "ipython2",
   "version": "2.7.14"
  },
  "toc": {
   "nav_menu": {},
   "number_sections": true,
   "sideBar": true,
   "skip_h1_title": false,
   "title_cell": "Table of Contents",
   "title_sidebar": "Contents",
   "toc_cell": false,
   "toc_position": {
    "height": "calc(100% - 180px)",
    "left": "10px",
    "top": "150px",
    "width": "207px"
   },
   "toc_section_display": true,
   "toc_window_display": true
  }
 },
 "nbformat": 4,
 "nbformat_minor": 2
}
